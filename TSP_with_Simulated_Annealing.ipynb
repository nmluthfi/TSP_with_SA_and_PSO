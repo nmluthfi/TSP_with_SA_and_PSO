{
  "nbformat": 4,
  "nbformat_minor": 0,
  "metadata": {
    "colab": {
      "provenance": [],
      "authorship_tag": "ABX9TyN5oLKpqsWkTyjQOe6qhCvw",
      "include_colab_link": true
    },
    "kernelspec": {
      "name": "python3",
      "display_name": "Python 3"
    },
    "language_info": {
      "name": "python"
    }
  },
  "cells": [
    {
      "cell_type": "markdown",
      "metadata": {
        "id": "view-in-github",
        "colab_type": "text"
      },
      "source": [
        "<a href=\"https://colab.research.google.com/github/nmluthfi/TSP_with_SA_and_PSO/blob/Simulated-Annealing/TSP_with_Simulated_Annealing.ipynb\" target=\"_parent\"><img src=\"https://colab.research.google.com/assets/colab-badge.svg\" alt=\"Open In Colab\"/></a>"
      ]
    },
    {
      "cell_type": "markdown",
      "source": [
        "Simulated Annealing algorithm\n",
        "*   Nama: Nur Muhammad Luthfi\n",
        "*   NIM: 1301218676\n",
        "\n"
      ],
      "metadata": {
        "id": "qdTt0MW579u-"
      }
    },
    {
      "cell_type": "code",
      "source": [
        "import math\n",
        "import random\n",
        "import matplotlib.pyplot as plt\n",
        "\n",
        "def distance(city1, city2):\n",
        "    \"\"\"Returns the Euclidean distance between two cities.\"\"\"\n",
        "    x1, y1 = city1\n",
        "    x2, y2 = city2\n",
        "    return math.sqrt((x1-x2)**2 + (y1-y2)**2)\n",
        "\n",
        "def cost(solution, cities):\n",
        "    \"\"\"Returns the total distance traveled for a given solution.\"\"\"\n",
        "    total = 0\n",
        "    for i in range(len(solution)):\n",
        "        j = (i + 1) % len(solution)\n",
        "        city1, city2 = cities[solution[i]], cities[solution[j]]\n",
        "        total += distance(city1, city2)\n",
        "    return total\n",
        "\n",
        "def neighbor(solution):\n",
        "    \"\"\"Returns a neighboring solution by swapping two random cities.\"\"\"\n",
        "    i, j = random.sample(range(len(solution)), 2)\n",
        "    new_solution = solution[:]\n",
        "    new_solution[i], new_solution[j] = new_solution[j], new_solution[i]\n",
        "    return new_solution\n",
        "\n",
        "def acceptance_probability(old_cost, new_cost, temperature):\n",
        "    \"\"\"Returns the probability of accepting a worse solution.\"\"\"\n",
        "    if new_cost < old_cost:\n",
        "        return 1.0\n",
        "    else:\n",
        "        return math.exp((old_cost - new_cost) / temperature)\n",
        "\n",
        "def anneal(cities, initial_temperature=10000, cooling_factor=0.99):\n",
        "    \"\"\"Uses simulated annealing to solve the traveling salesman problem.\"\"\"\n",
        "    solution = list(range(len(cities)))\n",
        "    random.shuffle(solution)\n",
        "    best_solution = solution\n",
        "    temperature = initial_temperature\n",
        "    while temperature > 1:\n",
        "        new_solution = neighbor(solution)\n",
        "        old_cost = cost(solution + [solution[0]], cities)  # Ensure solution returns to origin city\n",
        "        new_cost = cost(new_solution + [new_solution[0]], cities)  # Ensure new solution returns to origin city\n",
        "        ap = acceptance_probability(old_cost, new_cost, temperature)\n",
        "        if random.random() < ap:\n",
        "            solution = new_solution\n",
        "        if cost(solution + [solution[0]], cities) < cost(best_solution + [best_solution[0]], cities):\n",
        "            best_solution = solution\n",
        "        temperature *= cooling_factor\n",
        "    return best_solution\n",
        "\n",
        "def plot_tsp(path, cities):\n",
        "    \"\"\"\n",
        "    Plot the TSP path using matplotlib.\n",
        "    \n",
        "    Args:\n",
        "    - path: a list of city indices representing the TSP path\n",
        "    - cities: a list of tuples representing the (x, y) coordinates of each city\n",
        "    \"\"\"\n",
        "    x = [city[0] for city in cities]\n",
        "    y = [city[1] for city in cities]\n",
        "    path_x = [x[i] for i in path]\n",
        "    path_y = [y[i] for i in path]\n",
        "    plt.plot(path_x, path_y, 'co-', lw=2)\n",
        "    plt.plot(path_x[0], path_y[0], 'ro')\n",
        "    plt.plot([path_x[-1], path_x[0]], [path_y[-1], path_y[0]], 'co-', lw=2)\n",
        "    plt.axis('scaled')\n",
        "    plt.axis('on')\n",
        "    plt.show()\n",
        "\n",
        "# Example usage:\n",
        "cities = [(0, 9), (1, 7), (2, 3), (5, 2), (7, 0)]\n",
        "solution = anneal(cities)\n",
        "print('Best Path: ', solution + [solution[0]])\n",
        "print('Best Cost: ', cost(solution + [solution[0]], cities))\n",
        "\n",
        "# Call the anneal function to generate the TSP path\n",
        "path = anneal(cities)\n",
        "\n",
        "# Visualize the TSP path using the plot_tsp function\n",
        "plot_tsp(path, cities)"
      ],
      "metadata": {
        "colab": {
          "base_uri": "https://localhost:8080/",
          "height": 465
        },
        "id": "F-Yus3wz3hQA",
        "outputId": "a0bc1258-c1a0-4b33-f7f8-ef666012ce5f"
      },
      "execution_count": null,
      "outputs": [
        {
          "output_type": "stream",
          "name": "stdout",
          "text": [
            "Best Path:  [1, 2, 4, 3, 0, 1]\n",
            "Best Cost:  23.620877889751565\n"
          ]
        },
        {
          "output_type": "display_data",
          "data": {
            "text/plain": [
              "<Figure size 640x480 with 1 Axes>"
            ],
            "image/png": "[encoded data removed]"
          },
          "metadata": {}
        }
      ]
    }
  ]
}